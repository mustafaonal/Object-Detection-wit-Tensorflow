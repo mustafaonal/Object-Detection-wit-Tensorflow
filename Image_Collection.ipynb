{
 "cells": [
  {
   "cell_type": "code",
   "execution_count": 65,
   "id": "b35364a5",
   "metadata": {},
   "outputs": [],
   "source": [
    "import cv2\n",
    "import uuid\n",
    "import os\n",
    "import time\n",
    "import shutil"
   ]
  },
  {
   "cell_type": "code",
   "execution_count": 12,
   "id": "24d0a7a8",
   "metadata": {},
   "outputs": [],
   "source": [
    "#define labels to images and number of images in each class\n",
    "labels = ['thumbsup', 'thumbsdown', 'thumbsright', 'thumbsleft', 'thankyou', 'livelong', 'okay']\n",
    "num_imgs = 20"
   ]
  },
  {
   "cell_type": "code",
   "execution_count": 13,
   "id": "ee8bd7d2",
   "metadata": {},
   "outputs": [],
   "source": [
    "IMAGES_PATH = os.path.join('Tensorflow', 'workspace', 'images', 'collectedimages')"
   ]
  },
  {
   "cell_type": "code",
   "execution_count": 17,
   "id": "1c97f87c",
   "metadata": {},
   "outputs": [],
   "source": [
    "#nt -- windows machine     posix -- colab, linuz env.\n",
    "if not os.path.exists(IMAGES_PATH):\n",
    "    if os.name == 'posix':\n",
    "        !mkdir -p {IMAGES_PATH}\n",
    "    if os.name == 'nt':\n",
    "         !mkdir {IMAGES_PATH}\n",
    "for label in labels:\n",
    "    path = os.path.join(IMAGES_PATH, label)\n",
    "    if not os.path.exists(path):\n",
    "        !mkdir {path}"
   ]
  },
  {
   "cell_type": "code",
   "execution_count": 18,
   "id": "e0a91479",
   "metadata": {},
   "outputs": [
    {
     "name": "stdout",
     "output_type": "stream",
     "text": [
      "Collecting images for thumbsup\n",
      "Collecting image 0\n",
      "Collecting image 1\n",
      "Collecting image 2\n",
      "Collecting image 3\n",
      "Collecting image 4\n",
      "Collecting image 5\n",
      "Collecting image 6\n",
      "Collecting image 7\n",
      "Collecting image 8\n",
      "Collecting image 9\n",
      "Collecting image 10\n",
      "Collecting image 11\n",
      "Collecting image 12\n",
      "Collecting image 13\n",
      "Collecting image 14\n",
      "Collecting image 15\n",
      "Collecting image 16\n",
      "Collecting image 17\n",
      "Collecting image 18\n",
      "Collecting image 19\n",
      "Collecting images for thumbsdown\n",
      "Collecting image 0\n",
      "Collecting image 1\n",
      "Collecting image 2\n",
      "Collecting image 3\n",
      "Collecting image 4\n",
      "Collecting image 5\n",
      "Collecting image 6\n",
      "Collecting image 7\n",
      "Collecting image 8\n",
      "Collecting image 9\n",
      "Collecting image 10\n",
      "Collecting image 11\n",
      "Collecting image 12\n",
      "Collecting image 13\n",
      "Collecting image 14\n",
      "Collecting image 15\n",
      "Collecting image 16\n",
      "Collecting image 17\n",
      "Collecting image 18\n",
      "Collecting image 19\n",
      "Collecting images for thumbsright\n",
      "Collecting image 0\n",
      "Collecting image 1\n",
      "Collecting image 2\n",
      "Collecting image 3\n",
      "Collecting image 4\n",
      "Collecting image 5\n",
      "Collecting image 6\n",
      "Collecting image 7\n",
      "Collecting image 8\n",
      "Collecting image 9\n",
      "Collecting image 10\n",
      "Collecting image 11\n",
      "Collecting image 12\n",
      "Collecting image 13\n",
      "Collecting image 14\n",
      "Collecting image 15\n",
      "Collecting image 16\n",
      "Collecting image 17\n",
      "Collecting image 18\n",
      "Collecting image 19\n",
      "Collecting images for thumbsleft\n",
      "Collecting image 0\n",
      "Collecting image 1\n",
      "Collecting image 2\n",
      "Collecting image 3\n",
      "Collecting image 4\n",
      "Collecting image 5\n",
      "Collecting image 6\n",
      "Collecting image 7\n",
      "Collecting image 8\n",
      "Collecting image 9\n",
      "Collecting image 10\n",
      "Collecting image 11\n",
      "Collecting image 12\n",
      "Collecting image 13\n",
      "Collecting image 14\n",
      "Collecting image 15\n",
      "Collecting image 16\n",
      "Collecting image 17\n",
      "Collecting image 18\n",
      "Collecting image 19\n",
      "Collecting images for thankyou\n",
      "Collecting image 0\n",
      "Collecting image 1\n",
      "Collecting image 2\n",
      "Collecting image 3\n",
      "Collecting image 4\n",
      "Collecting image 5\n",
      "Collecting image 6\n",
      "Collecting image 7\n",
      "Collecting image 8\n",
      "Collecting image 9\n",
      "Collecting image 10\n",
      "Collecting image 11\n",
      "Collecting image 12\n",
      "Collecting image 13\n",
      "Collecting image 14\n",
      "Collecting image 15\n",
      "Collecting image 16\n",
      "Collecting image 17\n",
      "Collecting image 18\n",
      "Collecting image 19\n",
      "Collecting images for livelong\n",
      "Collecting image 0\n",
      "Collecting image 1\n",
      "Collecting image 2\n",
      "Collecting image 3\n",
      "Collecting image 4\n",
      "Collecting image 5\n",
      "Collecting image 6\n",
      "Collecting image 7\n",
      "Collecting image 8\n",
      "Collecting image 9\n",
      "Collecting image 10\n",
      "Collecting image 11\n",
      "Collecting image 12\n",
      "Collecting image 13\n",
      "Collecting image 14\n",
      "Collecting image 15\n",
      "Collecting image 16\n",
      "Collecting image 17\n",
      "Collecting image 18\n",
      "Collecting image 19\n",
      "Collecting images for okay\n",
      "Collecting image 0\n",
      "Collecting image 1\n",
      "Collecting image 2\n",
      "Collecting image 3\n",
      "Collecting image 4\n",
      "Collecting image 5\n",
      "Collecting image 6\n",
      "Collecting image 7\n",
      "Collecting image 8\n",
      "Collecting image 9\n",
      "Collecting image 10\n",
      "Collecting image 11\n",
      "Collecting image 12\n",
      "Collecting image 13\n",
      "Collecting image 14\n",
      "Collecting image 15\n",
      "Collecting image 16\n",
      "Collecting image 17\n",
      "Collecting image 18\n",
      "Collecting image 19\n"
     ]
    }
   ],
   "source": [
    "for label in labels:\n",
    "    cap = cv2.VideoCapture(0)\n",
    "    print('Collecting images for {}'.format(label))\n",
    "    time.sleep(7)\n",
    "    for num in range(num_imgs):\n",
    "        print('Collecting image {}'.format(num))\n",
    "        time.sleep(3)\n",
    "        ret, frame = cap.read()\n",
    "        imgname = os.path.join(IMAGES_PATH,label,label+'.'+'{}.jpg'.format(str(uuid.uuid1())))\n",
    "        cv2.imwrite(imgname, frame)\n",
    "        cv2.imshow('frame', frame)\n",
    "\n",
    "        if cv2.waitKey(1) & 0xFF == ord('q'):\n",
    "            break\n",
    "cap.release()\n",
    "cv2.destroyAllWindows()"
   ]
  },
  {
   "cell_type": "code",
   "execution_count": null,
   "id": "bfad94b2",
   "metadata": {},
   "outputs": [],
   "source": [
    "#git clone for labeling objects from images and create folder for this clone\n"
   ]
  },
  {
   "cell_type": "code",
   "execution_count": 19,
   "id": "90829ec6",
   "metadata": {},
   "outputs": [],
   "source": [
    "LABELIMG_PATH = os.path.join('Tensorflow', 'labelimg')"
   ]
  },
  {
   "cell_type": "code",
   "execution_count": 20,
   "id": "300db617",
   "metadata": {},
   "outputs": [
    {
     "name": "stderr",
     "output_type": "stream",
     "text": [
      "Cloning into 'Tensorflow\\labelimg'...\n"
     ]
    }
   ],
   "source": [
    "if not os.path.exists(LABELIMG_PATH):\n",
    "    !mkdir {LABELIMG_PATH}\n",
    "    !git clone https://github.com/tzutalin/labelImg {LABELIMG_PATH}"
   ]
  },
  {
   "cell_type": "code",
   "execution_count": 21,
   "id": "2b5269b6",
   "metadata": {},
   "outputs": [],
   "source": [
    "#installation steps recommended from labeling tool\n",
    "if os.name == 'posix':\n",
    "    !cd {LABELIMG_PATH} && make qt5py3\n",
    "if os.name =='nt':\n",
    "    !cd {LABELIMG_PATH} && pyrcc5 -o libs/resources.py resources.qrc"
   ]
  },
  {
   "cell_type": "code",
   "execution_count": 25,
   "id": "dbb087c1",
   "metadata": {},
   "outputs": [
    {
     "name": "stdout",
     "output_type": "stream",
     "text": [
      "Image:C:\\Users\\mustafa\\Desktop\\Object Detection\\object_detection\\Tensorflow\\workspace\\images\\collectedimages\\livelong\\livelong.86a8edcb-dac4-11eb-96ff-107b4420fbf7.jpg -> Annotation:C:/Users/mustafa/Desktop/Object Detection/object_detection/Tensorflow/workspace/images/collectedimages/livelong/livelong.86a8edcb-dac4-11eb-96ff-107b4420fbf7.xml\n",
      "Image:C:\\Users\\mustafa\\Desktop\\Object Detection\\object_detection\\Tensorflow\\workspace\\images\\collectedimages\\livelong\\livelong.96db797e-dac4-11eb-a339-107b4420fbf7.jpg -> Annotation:C:/Users/mustafa/Desktop/Object Detection/object_detection/Tensorflow/workspace/images/collectedimages/livelong/livelong.96db797e-dac4-11eb-a339-107b4420fbf7.xml\n",
      "Image:C:\\Users\\mustafa\\Desktop\\Object Detection\\object_detection\\Tensorflow\\workspace\\images\\collectedimages\\livelong\\livelong.98a81278-dac4-11eb-b5c1-107b4420fbf7.jpg -> Annotation:C:/Users/mustafa/Desktop/Object Detection/object_detection/Tensorflow/workspace/images/collectedimages/livelong/livelong.98a81278-dac4-11eb-b5c1-107b4420fbf7.xml\n",
      "Image:C:\\Users\\mustafa\\Desktop\\Object Detection\\object_detection\\Tensorflow\\workspace\\images\\collectedimages\\livelong\\livelong.950efffe-dac4-11eb-a505-107b4420fbf7.jpg -> Annotation:C:/Users/mustafa/Desktop/Object Detection/object_detection/Tensorflow/workspace/images/collectedimages/livelong/livelong.950efffe-dac4-11eb-a505-107b4420fbf7.xml\n",
      "Image:C:\\Users\\mustafa\\Desktop\\Object Detection\\object_detection\\Tensorflow\\workspace\\images\\collectedimages\\livelong\\livelong.91755e8b-dac4-11eb-9580-107b4420fbf7.jpg -> Annotation:C:/Users/mustafa/Desktop/Object Detection/object_detection/Tensorflow/workspace/images/collectedimages/livelong/livelong.91755e8b-dac4-11eb-9580-107b4420fbf7.xml\n",
      "Image:C:\\Users\\mustafa\\Desktop\\Object Detection\\object_detection\\Tensorflow\\workspace\\images\\collectedimages\\livelong\\livelong.93423f3f-dac4-11eb-b2a9-107b4420fbf7.jpg -> Annotation:C:/Users/mustafa/Desktop/Object Detection/object_detection/Tensorflow/workspace/images/collectedimages/livelong/livelong.93423f3f-dac4-11eb-b2a9-107b4420fbf7.xml\n",
      "Image:C:\\Users\\mustafa\\Desktop\\Object Detection\\object_detection\\Tensorflow\\workspace\\images\\collectedimages\\livelong\\livelong.887593a8-dac4-11eb-a4b8-107b4420fbf7.jpg -> Annotation:C:/Users/mustafa/Desktop/Object Detection/object_detection/Tensorflow/workspace/images/collectedimages/livelong/livelong.887593a8-dac4-11eb-a4b8-107b4420fbf7.xml\n"
     ]
    },
    {
     "name": "stderr",
     "output_type": "stream",
     "text": [
      "Warning: QT_DEVICE_PIXEL_RATIO is deprecated. Instead use:\n",
      "   QT_AUTO_SCREEN_SCALE_FACTOR to enable platform plugin controlled per-screen factors.\n",
      "   QT_SCREEN_SCALE_FACTORS to set per-screen factors.\n",
      "   QT_SCALE_FACTOR to set the application global scale factor.\n",
      "labelImg.py:208: DeprecationWarning: an integer is required (got type DockWidgetFeatures).  Implicit conversion to integers using __int__ is deprecated, and may be removed in a future version of Python.\n",
      "  self.dock.setFeatures(self.dock.features() ^ self.dock_features)\n",
      "labelImg.py:965: DeprecationWarning: an integer is required (got type float).  Implicit conversion to integers using __int__ is deprecated, and may be removed in a future version of Python.\n",
      "  bar.setValue(bar.value() + bar.singleStep() * units)\n"
     ]
    },
    {
     "name": "stdout",
     "output_type": "stream",
     "text": [
      "Cancel creation.\n",
      "Image:C:\\Users\\mustafa\\Desktop\\Object Detection\\object_detection\\Tensorflow\\workspace\\images\\collectedimages\\livelong\\livelong.a1a6b338-dac4-11eb-ab4d-107b4420fbf7.jpg -> Annotation:C:/Users/mustafa/Desktop/Object Detection/object_detection/Tensorflow/workspace/images/collectedimages/livelong/livelong.a1a6b338-dac4-11eb-ab4d-107b4420fbf7.xml\n",
      "Image:C:\\Users\\mustafa\\Desktop\\Object Detection\\object_detection\\Tensorflow\\workspace\\images\\collectedimages\\livelong\\livelong.a53fe4e6-dac4-11eb-938e-107b4420fbf7.jpg -> Annotation:C:/Users/mustafa/Desktop/Object Detection/object_detection/Tensorflow/workspace/images/collectedimages/livelong/livelong.a53fe4e6-dac4-11eb-938e-107b4420fbf7.xml\n",
      "Image:C:\\Users\\mustafa\\Desktop\\Object Detection\\object_detection\\Tensorflow\\workspace\\images\\collectedimages\\livelong\\livelong.a70c9140-dac4-11eb-bf76-107b4420fbf7.jpg -> Annotation:C:/Users/mustafa/Desktop/Object Detection/object_detection/Tensorflow/workspace/images/collectedimages/livelong/livelong.a70c9140-dac4-11eb-bf76-107b4420fbf7.xml\n",
      "Image:C:\\Users\\mustafa\\Desktop\\Object Detection\\object_detection\\Tensorflow\\workspace\\images\\collectedimages\\livelong\\livelong.a37332c9-dac4-11eb-95a1-107b4420fbf7.jpg -> Annotation:C:/Users/mustafa/Desktop/Object Detection/object_detection/Tensorflow/workspace/images/collectedimages/livelong/livelong.a37332c9-dac4-11eb-95a1-107b4420fbf7.xml\n",
      "Image:C:\\Users\\mustafa\\Desktop\\Object Detection\\object_detection\\Tensorflow\\workspace\\images\\collectedimages\\okay\\okay.ad994105-dac4-11eb-b36e-107b4420fbf7.jpg -> Annotation:C:/Users/mustafa/Desktop/Object Detection/object_detection/Tensorflow/workspace/images/collectedimages/okay/okay.ad994105-dac4-11eb-b36e-107b4420fbf7.xml\n",
      "Image:C:\\Users\\mustafa\\Desktop\\Object Detection\\object_detection\\Tensorflow\\workspace\\images\\collectedimages\\okay\\okay.af666ad9-dac4-11eb-9bc6-107b4420fbf7.jpg -> Annotation:C:/Users/mustafa/Desktop/Object Detection/object_detection/Tensorflow/workspace/images/collectedimages/okay/okay.af666ad9-dac4-11eb-9bc6-107b4420fbf7.xml\n",
      "Cancel creation.\n",
      "Image:C:\\Users\\mustafa\\Desktop\\Object Detection\\object_detection\\Tensorflow\\workspace\\images\\collectedimages\\okay\\okay.b2ffc360-dac4-11eb-894e-107b4420fbf7.jpg -> Annotation:C:/Users/mustafa/Desktop/Object Detection/object_detection/Tensorflow/workspace/images/collectedimages/okay/okay.b2ffc360-dac4-11eb-894e-107b4420fbf7.xml\n",
      "Image:C:\\Users\\mustafa\\Desktop\\Object Detection\\object_detection\\Tensorflow\\workspace\\images\\collectedimages\\okay\\okay.b4cc8e66-dac4-11eb-a3d5-107b4420fbf7.jpg -> Annotation:C:/Users/mustafa/Desktop/Object Detection/object_detection/Tensorflow/workspace/images/collectedimages/okay/okay.b4cc8e66-dac4-11eb-a3d5-107b4420fbf7.xml\n",
      "Image:C:\\Users\\mustafa\\Desktop\\Object Detection\\object_detection\\Tensorflow\\workspace\\images\\collectedimages\\okay\\okay.b1330b65-dac4-11eb-ae92-107b4420fbf7.jpg -> Annotation:C:/Users/mustafa/Desktop/Object Detection/object_detection/Tensorflow/workspace/images/collectedimages/okay/okay.b1330b65-dac4-11eb-ae92-107b4420fbf7.xml\n",
      "Image:C:\\Users\\mustafa\\Desktop\\Object Detection\\object_detection\\Tensorflow\\workspace\\images\\collectedimages\\okay\\okay.b6994b17-dac4-11eb-92b1-107b4420fbf7.jpg -> Annotation:C:/Users/mustafa/Desktop/Object Detection/object_detection/Tensorflow/workspace/images/collectedimages/okay/okay.b6994b17-dac4-11eb-92b1-107b4420fbf7.xml\n",
      "Image:C:\\Users\\mustafa\\Desktop\\Object Detection\\object_detection\\Tensorflow\\workspace\\images\\collectedimages\\okay\\okay.b8660838-dac4-11eb-b8ac-107b4420fbf7.jpg -> Annotation:C:/Users/mustafa/Desktop/Object Detection/object_detection/Tensorflow/workspace/images/collectedimages/okay/okay.b8660838-dac4-11eb-b8ac-107b4420fbf7.xml\n",
      "Cancel creation.\n",
      "Image:C:\\Users\\mustafa\\Desktop\\Object Detection\\object_detection\\Tensorflow\\workspace\\images\\collectedimages\\okay\\okay.ba318b8d-dac4-11eb-896b-107b4420fbf7.jpg -> Annotation:C:/Users/mustafa/Desktop/Object Detection/object_detection/Tensorflow/workspace/images/collectedimages/okay/okay.ba318b8d-dac4-11eb-896b-107b4420fbf7.xml\n",
      "Image:C:\\Users\\mustafa\\Desktop\\Object Detection\\object_detection\\Tensorflow\\workspace\\images\\collectedimages\\okay\\okay.bbfee828-dac4-11eb-874a-107b4420fbf7.jpg -> Annotation:C:/Users/mustafa/Desktop/Object Detection/object_detection/Tensorflow/workspace/images/collectedimages/okay/okay.bbfee828-dac4-11eb-874a-107b4420fbf7.xml\n",
      "Image:C:\\Users\\mustafa\\Desktop\\Object Detection\\object_detection\\Tensorflow\\workspace\\images\\collectedimages\\okay\\okay.bdca8c95-dac4-11eb-a3a7-107b4420fbf7.jpg -> Annotation:C:/Users/mustafa/Desktop/Object Detection/object_detection/Tensorflow/workspace/images/collectedimages/okay/okay.bdca8c95-dac4-11eb-a3a7-107b4420fbf7.xml\n",
      "Image:C:\\Users\\mustafa\\Desktop\\Object Detection\\object_detection\\Tensorflow\\workspace\\images\\collectedimages\\okay\\okay.bf97470a-dac4-11eb-8ba7-107b4420fbf7.jpg -> Annotation:C:/Users/mustafa/Desktop/Object Detection/object_detection/Tensorflow/workspace/images/collectedimages/okay/okay.bf97470a-dac4-11eb-8ba7-107b4420fbf7.xml\n",
      "Image:C:\\Users\\mustafa\\Desktop\\Object Detection\\object_detection\\Tensorflow\\workspace\\images\\collectedimages\\okay\\okay.c4fbb4ce-dac4-11eb-ae71-107b4420fbf7.jpg -> Annotation:C:/Users/mustafa/Desktop/Object Detection/object_detection/Tensorflow/workspace/images/collectedimages/okay/okay.c4fbb4ce-dac4-11eb-ae71-107b4420fbf7.xml\n",
      "Image:C:\\Users\\mustafa\\Desktop\\Object Detection\\object_detection\\Tensorflow\\workspace\\images\\collectedimages\\okay\\okay.c6c8345b-dac4-11eb-8ffe-107b4420fbf7.jpg -> Annotation:C:/Users/mustafa/Desktop/Object Detection/object_detection/Tensorflow/workspace/images/collectedimages/okay/okay.c6c8345b-dac4-11eb-8ffe-107b4420fbf7.xml\n",
      "Image:C:\\Users\\mustafa\\Desktop\\Object Detection\\object_detection\\Tensorflow\\workspace\\images\\collectedimages\\okay\\okay.c32fd9d3-dac4-11eb-87c4-107b4420fbf7.jpg -> Annotation:C:/Users/mustafa/Desktop/Object Detection/object_detection/Tensorflow/workspace/images/collectedimages/okay/okay.c32fd9d3-dac4-11eb-87c4-107b4420fbf7.xml\n",
      "Image:C:\\Users\\mustafa\\Desktop\\Object Detection\\object_detection\\Tensorflow\\workspace\\images\\collectedimages\\okay\\okay.c163fd56-dac4-11eb-ad39-107b4420fbf7.jpg -> Annotation:C:/Users/mustafa/Desktop/Object Detection/object_detection/Tensorflow/workspace/images/collectedimages/okay/okay.c163fd56-dac4-11eb-ad39-107b4420fbf7.xml\n",
      "Image:C:\\Users\\mustafa\\Desktop\\Object Detection\\object_detection\\Tensorflow\\workspace\\images\\collectedimages\\okay\\okay.c893e38b-dac4-11eb-a9b0-107b4420fbf7.jpg -> Annotation:C:/Users/mustafa/Desktop/Object Detection/object_detection/Tensorflow/workspace/images/collectedimages/okay/okay.c893e38b-dac4-11eb-a9b0-107b4420fbf7.xml\n",
      "Image:C:\\Users\\mustafa\\Desktop\\Object Detection\\object_detection\\Tensorflow\\workspace\\images\\collectedimages\\okay\\okay.ca60ad85-dac4-11eb-a0d3-107b4420fbf7.jpg -> Annotation:C:/Users/mustafa/Desktop/Object Detection/object_detection/Tensorflow/workspace/images/collectedimages/okay/okay.ca60ad85-dac4-11eb-a0d3-107b4420fbf7.xml\n",
      "Image:C:\\Users\\mustafa\\Desktop\\Object Detection\\object_detection\\Tensorflow\\workspace\\images\\collectedimages\\okay\\okay.cc2d7a7d-dac4-11eb-8f8c-107b4420fbf7.jpg -> Annotation:C:/Users/mustafa/Desktop/Object Detection/object_detection/Tensorflow/workspace/images/collectedimages/okay/okay.cc2d7a7d-dac4-11eb-8f8c-107b4420fbf7.xml\n",
      "Image:C:\\Users\\mustafa\\Desktop\\Object Detection\\object_detection\\Tensorflow\\workspace\\images\\collectedimages\\okay\\okay.cdfa49b8-dac4-11eb-a3b5-107b4420fbf7.jpg -> Annotation:C:/Users/mustafa/Desktop/Object Detection/object_detection/Tensorflow/workspace/images/collectedimages/okay/okay.cdfa49b8-dac4-11eb-a3b5-107b4420fbf7.xml\n",
      "Image:C:\\Users\\mustafa\\Desktop\\Object Detection\\object_detection\\Tensorflow\\workspace\\images\\collectedimages\\okay\\okay.cfc70443-dac4-11eb-99bb-107b4420fbf7.jpg -> Annotation:C:/Users/mustafa/Desktop/Object Detection/object_detection/Tensorflow/workspace/images/collectedimages/okay/okay.cfc70443-dac4-11eb-99bb-107b4420fbf7.xml\n",
      "Image:C:\\Users\\mustafa\\Desktop\\Object Detection\\object_detection\\Tensorflow\\workspace\\images\\collectedimages\\thankyou\\thankyou.5c203dce-dac4-11eb-951b-107b4420fbf7.jpg -> Annotation:C:/Users/mustafa/Desktop/Object Detection/object_detection/Tensorflow/workspace/images/collectedimages/thankyou/thankyou.5c203dce-dac4-11eb-951b-107b4420fbf7.xml\n",
      "Image:C:\\Users\\mustafa\\Desktop\\Object Detection\\object_detection\\Tensorflow\\workspace\\images\\collectedimages\\thankyou\\thankyou.5fb9caff-dac4-11eb-bbea-107b4420fbf7.jpg -> Annotation:C:/Users/mustafa/Desktop/Object Detection/object_detection/Tensorflow/workspace/images/collectedimages/thankyou/thankyou.5fb9caff-dac4-11eb-bbea-107b4420fbf7.xml\n",
      "Cancel creation.\n",
      "Image:C:\\Users\\mustafa\\Desktop\\Object Detection\\object_detection\\Tensorflow\\workspace\\images\\collectedimages\\thankyou\\thankyou.5ded37e5-dac4-11eb-901e-107b4420fbf7.jpg -> Annotation:C:/Users/mustafa/Desktop/Object Detection/object_detection/Tensorflow/workspace/images/collectedimages/thankyou/thankyou.5ded37e5-dac4-11eb-901e-107b4420fbf7.xml\n",
      "Image:C:\\Users\\mustafa\\Desktop\\Object Detection\\object_detection\\Tensorflow\\workspace\\images\\collectedimages\\thankyou\\thankyou.6a8651af-dac4-11eb-b917-107b4420fbf7.jpg -> Annotation:C:/Users/mustafa/Desktop/Object Detection/object_detection/Tensorflow/workspace/images/collectedimages/thankyou/thankyou.6a8651af-dac4-11eb-b917-107b4420fbf7.xml\n",
      "Image:C:\\Users\\mustafa\\Desktop\\Object Detection\\object_detection\\Tensorflow\\workspace\\images\\collectedimages\\thankyou\\thankyou.6c52f2fd-dac4-11eb-88ff-107b4420fbf7.jpg -> Annotation:C:/Users/mustafa/Desktop/Object Detection/object_detection/Tensorflow/workspace/images/collectedimages/thankyou/thankyou.6c52f2fd-dac4-11eb-88ff-107b4420fbf7.xml\n",
      "Image:C:\\Users\\mustafa\\Desktop\\Object Detection\\object_detection\\Tensorflow\\workspace\\images\\collectedimages\\thankyou\\thankyou.6e1fa0bd-dac4-11eb-ac46-107b4420fbf7.jpg -> Annotation:C:/Users/mustafa/Desktop/Object Detection/object_detection/Tensorflow/workspace/images/collectedimages/thankyou/thankyou.6e1fa0bd-dac4-11eb-ac46-107b4420fbf7.xml\n",
      "Image:C:\\Users\\mustafa\\Desktop\\Object Detection\\object_detection\\Tensorflow\\workspace\\images\\collectedimages\\thankyou\\thankyou.6fec498f-dac4-11eb-94db-107b4420fbf7.jpg -> Annotation:C:/Users/mustafa/Desktop/Object Detection/object_detection/Tensorflow/workspace/images/collectedimages/thankyou/thankyou.6fec498f-dac4-11eb-94db-107b4420fbf7.xml\n",
      "Image:C:\\Users\\mustafa\\Desktop\\Object Detection\\object_detection\\Tensorflow\\workspace\\images\\collectedimages\\thankyou\\thankyou.7ab91473-dac4-11eb-b768-107b4420fbf7.jpg -> Annotation:C:/Users/mustafa/Desktop/Object Detection/object_detection/Tensorflow/workspace/images/collectedimages/thankyou/thankyou.7ab91473-dac4-11eb-b768-107b4420fbf7.xml\n",
      "Image:C:\\Users\\mustafa\\Desktop\\Object Detection\\object_detection\\Tensorflow\\workspace\\images\\collectedimages\\thankyou\\thankyou.7c84eda6-dac4-11eb-bfd6-107b4420fbf7.jpg -> Annotation:C:/Users/mustafa/Desktop/Object Detection/object_detection/Tensorflow/workspace/images/collectedimages/thankyou/thankyou.7c84eda6-dac4-11eb-bfd6-107b4420fbf7.xml\n",
      "Image:C:\\Users\\mustafa\\Desktop\\Object Detection\\object_detection\\Tensorflow\\workspace\\images\\collectedimages\\thankyou\\thankyou.7e50a0b6-dac4-11eb-8cf7-107b4420fbf7.jpg -> Annotation:C:/Users/mustafa/Desktop/Object Detection/object_detection/Tensorflow/workspace/images/collectedimages/thankyou/thankyou.7e50a0b6-dac4-11eb-8cf7-107b4420fbf7.xml\n",
      "Image:C:\\Users\\mustafa\\Desktop\\Object Detection\\object_detection\\Tensorflow\\workspace\\images\\collectedimages\\thankyou\\thankyou.66ed0e6b-dac4-11eb-a31d-107b4420fbf7.jpg -> Annotation:C:/Users/mustafa/Desktop/Object Detection/object_detection/Tensorflow/workspace/images/collectedimages/thankyou/thankyou.66ed0e6b-dac4-11eb-a31d-107b4420fbf7.xml\n",
      "Image:C:\\Users\\mustafa\\Desktop\\Object Detection\\object_detection\\Tensorflow\\workspace\\images\\collectedimages\\thankyou\\thankyou.68b9d0c2-dac4-11eb-ab93-107b4420fbf7.jpg -> Annotation:C:/Users/mustafa/Desktop/Object Detection/object_detection/Tensorflow/workspace/images/collectedimages/thankyou/thankyou.68b9d0c2-dac4-11eb-ab93-107b4420fbf7.xml\n",
      "Image:C:\\Users\\mustafa\\Desktop\\Object Detection\\object_detection\\Tensorflow\\workspace\\images\\collectedimages\\thankyou\\thankyou.71b9572f-dac4-11eb-aae6-107b4420fbf7.jpg -> Annotation:C:/Users/mustafa/Desktop/Object Detection/object_detection/Tensorflow/workspace/images/collectedimages/thankyou/thankyou.71b9572f-dac4-11eb-aae6-107b4420fbf7.xml\n",
      "Image:C:\\Users\\mustafa\\Desktop\\Object Detection\\object_detection\\Tensorflow\\workspace\\images\\collectedimages\\thankyou\\thankyou.78ec09b3-dac4-11eb-afb6-107b4420fbf7.jpg -> Annotation:C:/Users/mustafa/Desktop/Object Detection/object_detection/Tensorflow/workspace/images/collectedimages/thankyou/thankyou.78ec09b3-dac4-11eb-afb6-107b4420fbf7.xml\n",
      "Image:C:\\Users\\mustafa\\Desktop\\Object Detection\\object_detection\\Tensorflow\\workspace\\images\\collectedimages\\thankyou\\thankyou.771f7163-dac4-11eb-b592-107b4420fbf7.jpg -> Annotation:C:/Users/mustafa/Desktop/Object Detection/object_detection/Tensorflow/workspace/images/collectedimages/thankyou/thankyou.771f7163-dac4-11eb-b592-107b4420fbf7.xml\n",
      "Image:C:\\Users\\mustafa\\Desktop\\Object Detection\\object_detection\\Tensorflow\\workspace\\images\\collectedimages\\thankyou\\thankyou.6186a364-dac4-11eb-bf15-107b4420fbf7.jpg -> Annotation:C:/Users/mustafa/Desktop/Object Detection/object_detection/Tensorflow/workspace/images/collectedimages/thankyou/thankyou.6186a364-dac4-11eb-bf15-107b4420fbf7.xml\n",
      "Image:C:\\Users\\mustafa\\Desktop\\Object Detection\\object_detection\\Tensorflow\\workspace\\images\\collectedimages\\thankyou\\thankyou.7385e2ed-dac4-11eb-8090-107b4420fbf7.jpg -> Annotation:C:/Users/mustafa/Desktop/Object Detection/object_detection/Tensorflow/workspace/images/collectedimages/thankyou/thankyou.7385e2ed-dac4-11eb-8090-107b4420fbf7.xml\n",
      "Image:C:\\Users\\mustafa\\Desktop\\Object Detection\\object_detection\\Tensorflow\\workspace\\images\\collectedimages\\thankyou\\thankyou.7552a6b0-dac4-11eb-8dfe-107b4420fbf7.jpg -> Annotation:C:/Users/mustafa/Desktop/Object Detection/object_detection/Tensorflow/workspace/images/collectedimages/thankyou/thankyou.7552a6b0-dac4-11eb-8dfe-107b4420fbf7.xml\n",
      "Image:C:\\Users\\mustafa\\Desktop\\Object Detection\\object_detection\\Tensorflow\\workspace\\images\\collectedimages\\thankyou\\thankyou.63538bb0-dac4-11eb-921c-107b4420fbf7.jpg -> Annotation:C:/Users/mustafa/Desktop/Object Detection/object_detection/Tensorflow/workspace/images/collectedimages/thankyou/thankyou.63538bb0-dac4-11eb-921c-107b4420fbf7.xml\n",
      "Image:C:\\Users\\mustafa\\Desktop\\Object Detection\\object_detection\\Tensorflow\\workspace\\images\\collectedimages\\thankyou\\thankyou.65205890-dac4-11eb-bf4a-107b4420fbf7.jpg -> Annotation:C:/Users/mustafa/Desktop/Object Detection/object_detection/Tensorflow/workspace/images/collectedimages/thankyou/thankyou.65205890-dac4-11eb-bf4a-107b4420fbf7.xml\n",
      "Image:C:\\Users\\mustafa\\Desktop\\Object Detection\\object_detection\\Tensorflow\\workspace\\images\\collectedimages\\thumbsdown\\thumbsdown.041d125f-dac4-11eb-9d65-107b4420fbf7.jpg -> Annotation:C:/Users/mustafa/Desktop/Object Detection/object_detection/Tensorflow/workspace/images/collectedimages/thumbsdown/thumbsdown.041d125f-dac4-11eb-9d65-107b4420fbf7.xml\n",
      "Image:C:\\Users\\mustafa\\Desktop\\Object Detection\\object_detection\\Tensorflow\\workspace\\images\\collectedimages\\thumbsdown\\thumbsdown.0084ed96-dac4-11eb-9f95-107b4420fbf7.jpg -> Annotation:C:/Users/mustafa/Desktop/Object Detection/object_detection/Tensorflow/workspace/images/collectedimages/thumbsdown/thumbsdown.0084ed96-dac4-11eb-9f95-107b4420fbf7.xml\n",
      "Image:C:\\Users\\mustafa\\Desktop\\Object Detection\\object_detection\\Tensorflow\\workspace\\images\\collectedimages\\thumbsdown\\thumbsdown.0251770c-dac4-11eb-ab25-107b4420fbf7.jpg -> Annotation:C:/Users/mustafa/Desktop/Object Detection/object_detection/Tensorflow/workspace/images/collectedimages/thumbsdown/thumbsdown.0251770c-dac4-11eb-ab25-107b4420fbf7.xml\n",
      "Image:C:\\Users\\mustafa\\Desktop\\Object Detection\\object_detection\\Tensorflow\\workspace\\images\\collectedimages\\thumbsdown\\thumbsdown.e1efc582-dac3-11eb-b86a-107b4420fbf7.jpg -> Annotation:C:/Users/mustafa/Desktop/Object Detection/object_detection/Tensorflow/workspace/images/collectedimages/thumbsdown/thumbsdown.e1efc582-dac3-11eb-b86a-107b4420fbf7.xml\n",
      "Image:C:\\Users\\mustafa\\Desktop\\Object Detection\\object_detection\\Tensorflow\\workspace\\images\\collectedimages\\thumbsdown\\thumbsdown.e3bcbc9c-dac3-11eb-8b96-107b4420fbf7.jpg -> Annotation:C:/Users/mustafa/Desktop/Object Detection/object_detection/Tensorflow/workspace/images/collectedimages/thumbsdown/thumbsdown.e3bcbc9c-dac3-11eb-8b96-107b4420fbf7.xml\n",
      "Image:C:\\Users\\mustafa\\Desktop\\Object Detection\\object_detection\\Tensorflow\\workspace\\images\\collectedimages\\thumbsdown\\thumbsdown.e921cb38-dac3-11eb-ae29-107b4420fbf7.jpg -> Annotation:C:/Users/mustafa/Desktop/Object Detection/object_detection/Tensorflow/workspace/images/collectedimages/thumbsdown/thumbsdown.e921cb38-dac3-11eb-ae29-107b4420fbf7.xml\n",
      "Image:C:\\Users\\mustafa\\Desktop\\Object Detection\\object_detection\\Tensorflow\\workspace\\images\\collectedimages\\thumbsdown\\thumbsdown.e58979df-dac3-11eb-a56d-107b4420fbf7.jpg -> Annotation:C:/Users/mustafa/Desktop/Object Detection/object_detection/Tensorflow/workspace/images/collectedimages/thumbsdown/thumbsdown.e58979df-dac3-11eb-a56d-107b4420fbf7.xml\n",
      "Image:C:\\Users\\mustafa\\Desktop\\Object Detection\\object_detection\\Tensorflow\\workspace\\images\\collectedimages\\thumbsdown\\thumbsdown.e75613af-dac3-11eb-b7b9-107b4420fbf7.jpg -> Annotation:C:/Users/mustafa/Desktop/Object Detection/object_detection/Tensorflow/workspace/images/collectedimages/thumbsdown/thumbsdown.e75613af-dac3-11eb-b7b9-107b4420fbf7.xml\n"
     ]
    },
    {
     "name": "stdout",
     "output_type": "stream",
     "text": [
      "Image:C:\\Users\\mustafa\\Desktop\\Object Detection\\object_detection\\Tensorflow\\workspace\\images\\collectedimages\\thumbsdown\\thumbsdown.eaee8aae-dac3-11eb-bb1d-107b4420fbf7.jpg -> Annotation:C:/Users/mustafa/Desktop/Object Detection/object_detection/Tensorflow/workspace/images/collectedimages/thumbsdown/thumbsdown.eaee8aae-dac3-11eb-bb1d-107b4420fbf7.xml\n",
      "Image:C:\\Users\\mustafa\\Desktop\\Object Detection\\object_detection\\Tensorflow\\workspace\\images\\collectedimages\\thumbsdown\\thumbsdown.ecbb5df9-dac3-11eb-bdf2-107b4420fbf7.jpg -> Annotation:C:/Users/mustafa/Desktop/Object Detection/object_detection/Tensorflow/workspace/images/collectedimages/thumbsdown/thumbsdown.ecbb5df9-dac3-11eb-bdf2-107b4420fbf7.xml\n",
      "Image:C:\\Users\\mustafa\\Desktop\\Object Detection\\object_detection\\Tensorflow\\workspace\\images\\collectedimages\\thumbsdown\\thumbsdown.ee881f13-dac3-11eb-82a1-107b4420fbf7.jpg -> Annotation:C:/Users/mustafa/Desktop/Object Detection/object_detection/Tensorflow/workspace/images/collectedimages/thumbsdown/thumbsdown.ee881f13-dac3-11eb-82a1-107b4420fbf7.xml\n",
      "Image:C:\\Users\\mustafa\\Desktop\\Object Detection\\object_detection\\Tensorflow\\workspace\\images\\collectedimages\\thumbsdown\\thumbsdown.f3ee8423-dac3-11eb-944c-107b4420fbf7.jpg -> Annotation:C:/Users/mustafa/Desktop/Object Detection/object_detection/Tensorflow/workspace/images/collectedimages/thumbsdown/thumbsdown.f3ee8423-dac3-11eb-944c-107b4420fbf7.xml\n",
      "Image:C:\\Users\\mustafa\\Desktop\\Object Detection\\object_detection\\Tensorflow\\workspace\\images\\collectedimages\\thumbsdown\\thumbsdown.f5baad01-dac3-11eb-bdcd-107b4420fbf7.jpg -> Annotation:C:/Users/mustafa/Desktop/Object Detection/object_detection/Tensorflow/workspace/images/collectedimages/thumbsdown/thumbsdown.f5baad01-dac3-11eb-bdcd-107b4420fbf7.xml\n",
      "Image:C:\\Users\\mustafa\\Desktop\\Object Detection\\object_detection\\Tensorflow\\workspace\\images\\collectedimages\\thumbsdown\\thumbsdown.f054ec15-dac3-11eb-8d3e-107b4420fbf7.jpg -> Annotation:C:/Users/mustafa/Desktop/Object Detection/object_detection/Tensorflow/workspace/images/collectedimages/thumbsdown/thumbsdown.f054ec15-dac3-11eb-8d3e-107b4420fbf7.xml\n",
      "Image:C:\\Users\\mustafa\\Desktop\\Object Detection\\object_detection\\Tensorflow\\workspace\\images\\collectedimages\\thumbsdown\\thumbsdown.f221b04d-dac3-11eb-a4bf-107b4420fbf7.jpg -> Annotation:C:/Users/mustafa/Desktop/Object Detection/object_detection/Tensorflow/workspace/images/collectedimages/thumbsdown/thumbsdown.f221b04d-dac3-11eb-a4bf-107b4420fbf7.xml\n",
      "Image:C:\\Users\\mustafa\\Desktop\\Object Detection\\object_detection\\Tensorflow\\workspace\\images\\collectedimages\\thumbsdown\\thumbsdown.f78650a4-dac3-11eb-8d0b-107b4420fbf7.jpg -> Annotation:C:/Users/mustafa/Desktop/Object Detection/object_detection/Tensorflow/workspace/images/collectedimages/thumbsdown/thumbsdown.f78650a4-dac3-11eb-8d0b-107b4420fbf7.xml\n",
      "Image:C:\\Users\\mustafa\\Desktop\\Object Detection\\object_detection\\Tensorflow\\workspace\\images\\collectedimages\\thumbsdown\\thumbsdown.f9522290-dac3-11eb-af75-107b4420fbf7.jpg -> Annotation:C:/Users/mustafa/Desktop/Object Detection/object_detection/Tensorflow/workspace/images/collectedimages/thumbsdown/thumbsdown.f9522290-dac3-11eb-af75-107b4420fbf7.xml\n",
      "Image:C:\\Users\\mustafa\\Desktop\\Object Detection\\object_detection\\Tensorflow\\workspace\\images\\collectedimages\\thumbsdown\\thumbsdown.fb1f188a-dac3-11eb-8241-107b4420fbf7.jpg -> Annotation:C:/Users/mustafa/Desktop/Object Detection/object_detection/Tensorflow/workspace/images/collectedimages/thumbsdown/thumbsdown.fb1f188a-dac3-11eb-8241-107b4420fbf7.xml\n",
      "Image:C:\\Users\\mustafa\\Desktop\\Object Detection\\object_detection\\Tensorflow\\workspace\\images\\collectedimages\\thumbsdown\\thumbsdown.fcebb601-dac3-11eb-94d3-107b4420fbf7.jpg -> Annotation:C:/Users/mustafa/Desktop/Object Detection/object_detection/Tensorflow/workspace/images/collectedimages/thumbsdown/thumbsdown.fcebb601-dac3-11eb-94d3-107b4420fbf7.xml\n",
      "Image:C:\\Users\\mustafa\\Desktop\\Object Detection\\object_detection\\Tensorflow\\workspace\\images\\collectedimages\\thumbsdown\\thumbsdown.feb86988-dac3-11eb-be6f-107b4420fbf7.jpg -> Annotation:C:/Users/mustafa/Desktop/Object Detection/object_detection/Tensorflow/workspace/images/collectedimages/thumbsdown/thumbsdown.feb86988-dac3-11eb-be6f-107b4420fbf7.xml\n",
      "Image:C:\\Users\\mustafa\\Desktop\\Object Detection\\object_detection\\Tensorflow\\workspace\\images\\collectedimages\\thumbsleft\\thumbsleft.3a992748-dac4-11eb-bf9d-107b4420fbf7.jpg -> Annotation:C:/Users/mustafa/Desktop/Object Detection/object_detection/Tensorflow/workspace/images/collectedimages/thumbsleft/thumbsleft.3a992748-dac4-11eb-bf9d-107b4420fbf7.xml\n",
      "Image:C:\\Users\\mustafa\\Desktop\\Object Detection\\object_detection\\Tensorflow\\workspace\\images\\collectedimages\\thumbsleft\\thumbsleft.3c65d54b-dac4-11eb-8926-107b4420fbf7.jpg -> Annotation:C:/Users/mustafa/Desktop/Object Detection/object_detection/Tensorflow/workspace/images/collectedimages/thumbsleft/thumbsleft.3c65d54b-dac4-11eb-8926-107b4420fbf7.xml\n",
      "Image:C:\\Users\\mustafa\\Desktop\\Object Detection\\object_detection\\Tensorflow\\workspace\\images\\collectedimages\\thumbsleft\\thumbsleft.3e328c20-dac4-11eb-b433-107b4420fbf7.jpg -> Annotation:C:/Users/mustafa/Desktop/Object Detection/object_detection/Tensorflow/workspace/images/collectedimages/thumbsleft/thumbsleft.3e328c20-dac4-11eb-b433-107b4420fbf7.xml\n",
      "Image:C:\\Users\\mustafa\\Desktop\\Object Detection\\object_detection\\Tensorflow\\workspace\\images\\collectedimages\\thumbsleft\\thumbsleft.3ffe1e40-dac4-11eb-9742-107b4420fbf7.jpg -> Annotation:C:/Users/mustafa/Desktop/Object Detection/object_detection/Tensorflow/workspace/images/collectedimages/thumbsleft/thumbsleft.3ffe1e40-dac4-11eb-9742-107b4420fbf7.xml\n",
      "Image:C:\\Users\\mustafa\\Desktop\\Object Detection\\object_detection\\Tensorflow\\workspace\\images\\collectedimages\\thumbsleft\\thumbsleft.4ac63346-dac4-11eb-a39f-107b4420fbf7.jpg -> Annotation:C:/Users/mustafa/Desktop/Object Detection/object_detection/Tensorflow/workspace/images/collectedimages/thumbsleft/thumbsleft.4ac63346-dac4-11eb-a39f-107b4420fbf7.xml\n",
      "Image:C:\\Users\\mustafa\\Desktop\\Object Detection\\object_detection\\Tensorflow\\workspace\\images\\collectedimages\\thumbsleft\\thumbsleft.4c92b56b-dac4-11eb-bc52-107b4420fbf7.jpg -> Annotation:C:/Users/mustafa/Desktop/Object Detection/object_detection/Tensorflow/workspace/images/collectedimages/thumbsleft/thumbsleft.4c92b56b-dac4-11eb-bc52-107b4420fbf7.xml\n",
      "Image:C:\\Users\\mustafa\\Desktop\\Object Detection\\object_detection\\Tensorflow\\workspace\\images\\collectedimages\\thumbsleft\\thumbsleft.4e5f942e-dac4-11eb-a2b3-107b4420fbf7.jpg -> Annotation:C:/Users/mustafa/Desktop/Object Detection/object_detection/Tensorflow/workspace/images/collectedimages/thumbsleft/thumbsleft.4e5f942e-dac4-11eb-a2b3-107b4420fbf7.xml\n",
      "Image:C:\\Users\\mustafa\\Desktop\\Object Detection\\object_detection\\Tensorflow\\workspace\\images\\collectedimages\\thumbsleft\\thumbsleft.36ffcac3-dac4-11eb-b458-107b4420fbf7.jpg -> Annotation:C:/Users/mustafa/Desktop/Object Detection/object_detection/Tensorflow/workspace/images/collectedimages/thumbsleft/thumbsleft.36ffcac3-dac4-11eb-b458-107b4420fbf7.xml\n",
      "Image:C:\\Users\\mustafa\\Desktop\\Object Detection\\object_detection\\Tensorflow\\workspace\\images\\collectedimages\\thumbsleft\\thumbsleft.38cc7c72-dac4-11eb-910f-107b4420fbf7.jpg -> Annotation:C:/Users/mustafa/Desktop/Object Detection/object_detection/Tensorflow/workspace/images/collectedimages/thumbsleft/thumbsleft.38cc7c72-dac4-11eb-910f-107b4420fbf7.xml\n",
      "Image:C:\\Users\\mustafa\\Desktop\\Object Detection\\object_detection\\Tensorflow\\workspace\\images\\collectedimages\\thumbsleft\\thumbsleft.41c9c31e-dac4-11eb-89e9-107b4420fbf7.jpg -> Annotation:C:/Users/mustafa/Desktop/Object Detection/object_detection/Tensorflow/workspace/images/collectedimages/thumbsleft/thumbsleft.41c9c31e-dac4-11eb-89e9-107b4420fbf7.xml\n",
      "Image:C:\\Users\\mustafa\\Desktop\\Object Detection\\object_detection\\Tensorflow\\workspace\\images\\collectedimages\\thumbsleft\\thumbsleft.48fa80d3-dac4-11eb-9ec7-107b4420fbf7.jpg -> Annotation:C:/Users/mustafa/Desktop/Object Detection/object_detection/Tensorflow/workspace/images/collectedimages/thumbsleft/thumbsleft.48fa80d3-dac4-11eb-9ec7-107b4420fbf7.xml\n",
      "Image:C:\\Users\\mustafa\\Desktop\\Object Detection\\object_detection\\Tensorflow\\workspace\\images\\collectedimages\\thumbsleft\\thumbsleft.51f8dac1-dac4-11eb-ad1c-107b4420fbf7.jpg -> Annotation:C:/Users/mustafa/Desktop/Object Detection/object_detection/Tensorflow/workspace/images/collectedimages/thumbsleft/thumbsleft.51f8dac1-dac4-11eb-ad1c-107b4420fbf7.xml\n",
      "Image:C:\\Users\\mustafa\\Desktop\\Object Detection\\object_detection\\Tensorflow\\workspace\\images\\collectedimages\\thumbsleft\\thumbsleft.53c59fa7-dac4-11eb-a80a-107b4420fbf7.jpg -> Annotation:C:/Users/mustafa/Desktop/Object Detection/object_detection/Tensorflow/workspace/images/collectedimages/thumbsleft/thumbsleft.53c59fa7-dac4-11eb-a80a-107b4420fbf7.xml\n",
      "Image:C:\\Users\\mustafa\\Desktop\\Object Detection\\object_detection\\Tensorflow\\workspace\\images\\collectedimages\\thumbsleft\\thumbsleft.472ec661-dac4-11eb-9fd5-107b4420fbf7.jpg -> Annotation:C:/Users/mustafa/Desktop/Object Detection/object_detection/Tensorflow/workspace/images/collectedimages/thumbsleft/thumbsleft.472ec661-dac4-11eb-9fd5-107b4420fbf7.xml\n",
      "Image:C:\\Users\\mustafa\\Desktop\\Object Detection\\object_detection\\Tensorflow\\workspace\\images\\collectedimages\\thumbsleft\\thumbsleft.502c608b-dac4-11eb-9f67-107b4420fbf7.jpg -> Annotation:C:/Users/mustafa/Desktop/Object Detection/object_detection/Tensorflow/workspace/images/collectedimages/thumbsleft/thumbsleft.502c608b-dac4-11eb-9f67-107b4420fbf7.xml\n",
      "Image:C:\\Users\\mustafa\\Desktop\\Object Detection\\object_detection\\Tensorflow\\workspace\\images\\collectedimages\\thumbsleft\\thumbsleft.3365affc-dac4-11eb-9d35-107b4420fbf7.jpg -> Annotation:C:/Users/mustafa/Desktop/Object Detection/object_detection/Tensorflow/workspace/images/collectedimages/thumbsleft/thumbsleft.3365affc-dac4-11eb-9d35-107b4420fbf7.xml\n",
      "Image:C:\\Users\\mustafa\\Desktop\\Object Detection\\object_detection\\Tensorflow\\workspace\\images\\collectedimages\\thumbsleft\\thumbsleft.3532c93e-dac4-11eb-b37c-107b4420fbf7.jpg -> Annotation:C:/Users/mustafa/Desktop/Object Detection/object_detection/Tensorflow/workspace/images/collectedimages/thumbsleft/thumbsleft.3532c93e-dac4-11eb-b37c-107b4420fbf7.xml\n",
      "Image:C:\\Users\\mustafa\\Desktop\\Object Detection\\object_detection\\Tensorflow\\workspace\\images\\collectedimages\\thumbsleft\\thumbsleft.439663b3-dac4-11eb-a2ae-107b4420fbf7.jpg -> Annotation:C:/Users/mustafa/Desktop/Object Detection/object_detection/Tensorflow/workspace/images/collectedimages/thumbsleft/thumbsleft.439663b3-dac4-11eb-a2ae-107b4420fbf7.xml\n",
      "Image:C:\\Users\\mustafa\\Desktop\\Object Detection\\object_detection\\Tensorflow\\workspace\\images\\collectedimages\\thumbsleft\\thumbsleft.456318b8-dac4-11eb-8b16-107b4420fbf7.jpg -> Annotation:C:/Users/mustafa/Desktop/Object Detection/object_detection/Tensorflow/workspace/images/collectedimages/thumbsleft/thumbsleft.456318b8-dac4-11eb-8b16-107b4420fbf7.xml\n",
      "Image:C:\\Users\\mustafa\\Desktop\\Object Detection\\object_detection\\Tensorflow\\workspace\\images\\collectedimages\\thumbsleft\\thumbsleft.55916684-dac4-11eb-ac78-107b4420fbf7.jpg -> Annotation:C:/Users/mustafa/Desktop/Object Detection/object_detection/Tensorflow/workspace/images/collectedimages/thumbsleft/thumbsleft.55916684-dac4-11eb-ac78-107b4420fbf7.xml\n",
      "Cancel creation.\n",
      "Image:C:\\Users\\mustafa\\Desktop\\Object Detection\\object_detection\\Tensorflow\\workspace\\images\\collectedimages\\thumbsright\\thumbsright.0aa89256-dac4-11eb-8358-107b4420fbf7.jpg -> Annotation:C:/Users/mustafa/Desktop/Object Detection/object_detection/Tensorflow/workspace/images/collectedimages/thumbsright/thumbsright.0aa89256-dac4-11eb-8358-107b4420fbf7.xml\n",
      "Image:C:\\Users\\mustafa\\Desktop\\Object Detection\\object_detection\\Tensorflow\\workspace\\images\\collectedimages\\thumbsright\\thumbsright.0c74f01c-dac4-11eb-bcd6-107b4420fbf7.jpg -> Annotation:C:/Users/mustafa/Desktop/Object Detection/object_detection/Tensorflow/workspace/images/collectedimages/thumbsright/thumbsright.0c74f01c-dac4-11eb-bcd6-107b4420fbf7.xml\n",
      "Image:C:\\Users\\mustafa\\Desktop\\Object Detection\\object_detection\\Tensorflow\\workspace\\images\\collectedimages\\thumbsright\\thumbsright.0e41a1a2-dac4-11eb-b503-107b4420fbf7.jpg -> Annotation:C:/Users/mustafa/Desktop/Object Detection/object_detection/Tensorflow/workspace/images/collectedimages/thumbsright/thumbsright.0e41a1a2-dac4-11eb-b503-107b4420fbf7.xml\n",
      "Image:C:\\Users\\mustafa\\Desktop\\Object Detection\\object_detection\\Tensorflow\\workspace\\images\\collectedimages\\thumbsright\\thumbsright.1ada10af-dac4-11eb-9662-107b4420fbf7.jpg -> Annotation:C:/Users/mustafa/Desktop/Object Detection/object_detection/Tensorflow/workspace/images/collectedimages/thumbsright/thumbsright.1ada10af-dac4-11eb-9662-107b4420fbf7.xml\n",
      "Image:C:\\Users\\mustafa\\Desktop\\Object Detection\\object_detection\\Tensorflow\\workspace\\images\\collectedimages\\thumbsright\\thumbsright.1ca5b370-dac4-11eb-83ca-107b4420fbf7.jpg -> Annotation:C:/Users/mustafa/Desktop/Object Detection/object_detection/Tensorflow/workspace/images/collectedimages/thumbsright/thumbsright.1ca5b370-dac4-11eb-83ca-107b4420fbf7.xml\n",
      "Image:C:\\Users\\mustafa\\Desktop\\Object Detection\\object_detection\\Tensorflow\\workspace\\images\\collectedimages\\thumbsright\\thumbsright.1e735822-dac4-11eb-bb02-107b4420fbf7.jpg -> Annotation:C:/Users/mustafa/Desktop/Object Detection/object_detection/Tensorflow/workspace/images/collectedimages/thumbsright/thumbsright.1e735822-dac4-11eb-bb02-107b4420fbf7.xml\n",
      "Image:C:\\Users\\mustafa\\Desktop\\Object Detection\\object_detection\\Tensorflow\\workspace\\images\\collectedimages\\thumbsright\\thumbsright.2b0932c4-dac4-11eb-8119-107b4420fbf7.jpg -> Annotation:C:/Users/mustafa/Desktop/Object Detection/object_detection/Tensorflow/workspace/images/collectedimages/thumbsright/thumbsright.2b0932c4-dac4-11eb-8119-107b4420fbf7.xml\n",
      "Image:C:\\Users\\mustafa\\Desktop\\Object Detection\\object_detection\\Tensorflow\\workspace\\images\\collectedimages\\thumbsright\\thumbsright.2cd5e3da-dac4-11eb-b52f-107b4420fbf7.jpg -> Annotation:C:/Users/mustafa/Desktop/Object Detection/object_detection/Tensorflow/workspace/images/collectedimages/thumbsright/thumbsright.2cd5e3da-dac4-11eb-b52f-107b4420fbf7.xml\n",
      "Image:C:\\Users\\mustafa\\Desktop\\Object Detection\\object_detection\\Tensorflow\\workspace\\images\\collectedimages\\thumbsright\\thumbsright.11dbc456-dac4-11eb-924a-107b4420fbf7.jpg -> Annotation:C:/Users/mustafa/Desktop/Object Detection/object_detection/Tensorflow/workspace/images/collectedimages/thumbsright/thumbsright.11dbc456-dac4-11eb-924a-107b4420fbf7.xml\n",
      "Image:C:\\Users\\mustafa\\Desktop\\Object Detection\\object_detection\\Tensorflow\\workspace\\images\\collectedimages\\thumbsright\\thumbsright.13a874d6-dac4-11eb-890c-107b4420fbf7.jpg -> Annotation:C:/Users/mustafa/Desktop/Object Detection/object_detection/Tensorflow/workspace/images/collectedimages/thumbsright/thumbsright.13a874d6-dac4-11eb-890c-107b4420fbf7.xml\n",
      "Image:C:\\Users\\mustafa\\Desktop\\Object Detection\\object_detection\\Tensorflow\\workspace\\images\\collectedimages\\thumbsright\\thumbsright.23d74944-dac4-11eb-8890-107b4420fbf7.jpg -> Annotation:C:/Users/mustafa/Desktop/Object Detection/object_detection/Tensorflow/workspace/images/collectedimages/thumbsright/thumbsright.23d74944-dac4-11eb-8890-107b4420fbf7.xml\n",
      "Cancel creation.\n",
      "Image:C:\\Users\\mustafa\\Desktop\\Object Detection\\object_detection\\Tensorflow\\workspace\\images\\collectedimages\\thumbsright\\thumbsright.25a2e479-dac4-11eb-9519-107b4420fbf7.jpg -> Annotation:C:/Users/mustafa/Desktop/Object Detection/object_detection/Tensorflow/workspace/images/collectedimages/thumbsright/thumbsright.25a2e479-dac4-11eb-9519-107b4420fbf7.xml\n",
      "Image:C:\\Users\\mustafa\\Desktop\\Object Detection\\object_detection\\Tensorflow\\workspace\\images\\collectedimages\\thumbsright\\thumbsright.100ec40c-dac4-11eb-9a69-107b4420fbf7.jpg -> Annotation:C:/Users/mustafa/Desktop/Object Detection/object_detection/Tensorflow/workspace/images/collectedimages/thumbsright/thumbsright.100ec40c-dac4-11eb-9a69-107b4420fbf7.xml\n",
      "Image:C:\\Users\\mustafa\\Desktop\\Object Detection\\object_detection\\Tensorflow\\workspace\\images\\collectedimages\\thumbsright\\thumbsright.190d826b-dac4-11eb-af81-107b4420fbf7.jpg -> Annotation:C:/Users/mustafa/Desktop/Object Detection/object_detection/Tensorflow/workspace/images/collectedimages/thumbsright/thumbsright.190d826b-dac4-11eb-af81-107b4420fbf7.xml\n",
      "Image:C:\\Users\\mustafa\\Desktop\\Object Detection\\object_detection\\Tensorflow\\workspace\\images\\collectedimages\\thumbsright\\thumbsright.203ee285-dac4-11eb-807e-107b4420fbf7.jpg -> Annotation:C:/Users/mustafa/Desktop/Object Detection/object_detection/Tensorflow/workspace/images/collectedimages/thumbsright/thumbsright.203ee285-dac4-11eb-807e-107b4420fbf7.xml\n",
      "Image:C:\\Users\\mustafa\\Desktop\\Object Detection\\object_detection\\Tensorflow\\workspace\\images\\collectedimages\\thumbsright\\thumbsright.220a9628-dac4-11eb-a612-107b4420fbf7.jpg -> Annotation:C:/Users/mustafa/Desktop/Object Detection/object_detection/Tensorflow/workspace/images/collectedimages/thumbsright/thumbsright.220a9628-dac4-11eb-a612-107b4420fbf7.xml\n",
      "Image:C:\\Users\\mustafa\\Desktop\\Object Detection\\object_detection\\Tensorflow\\workspace\\images\\collectedimages\\thumbsright\\thumbsright.276f95e7-dac4-11eb-a8cc-107b4420fbf7.jpg -> Annotation:C:/Users/mustafa/Desktop/Object Detection/object_detection/Tensorflow/workspace/images/collectedimages/thumbsright/thumbsright.276f95e7-dac4-11eb-a8cc-107b4420fbf7.xml\n",
      "Image:C:\\Users\\mustafa\\Desktop\\Object Detection\\object_detection\\Tensorflow\\workspace\\images\\collectedimages\\thumbsright\\thumbsright.293c5dd1-dac4-11eb-add2-107b4420fbf7.jpg -> Annotation:C:/Users/mustafa/Desktop/Object Detection/object_detection/Tensorflow/workspace/images/collectedimages/thumbsright/thumbsright.293c5dd1-dac4-11eb-add2-107b4420fbf7.xml\n",
      "Image:C:\\Users\\mustafa\\Desktop\\Object Detection\\object_detection\\Tensorflow\\workspace\\images\\collectedimages\\thumbsright\\thumbsright.1741ef91-dac4-11eb-a855-107b4420fbf7.jpg -> Annotation:C:/Users/mustafa/Desktop/Object Detection/object_detection/Tensorflow/workspace/images/collectedimages/thumbsright/thumbsright.1741ef91-dac4-11eb-a855-107b4420fbf7.xml\n",
      "Image:C:\\Users\\mustafa\\Desktop\\Object Detection\\object_detection\\Tensorflow\\workspace\\images\\collectedimages\\thumbsright\\thumbsright.157537e7-dac4-11eb-a8d9-107b4420fbf7.jpg -> Annotation:C:/Users/mustafa/Desktop/Object Detection/object_detection/Tensorflow/workspace/images/collectedimages/thumbsright/thumbsright.157537e7-dac4-11eb-a8d9-107b4420fbf7.xml\n",
      "Image:C:\\Users\\mustafa\\Desktop\\Object Detection\\object_detection\\Tensorflow\\workspace\\images\\collectedimages\\thumbsup\\thumbsup.b93b701d-dac3-11eb-b953-107b4420fbf7.jpg -> Annotation:C:/Users/mustafa/Desktop/Object Detection/object_detection/Tensorflow/workspace/images/collectedimages/thumbsup/thumbsup.b93b701d-dac3-11eb-b953-107b4420fbf7.xml\n",
      "Image:C:\\Users\\mustafa\\Desktop\\Object Detection\\object_detection\\Tensorflow\\workspace\\images\\collectedimages\\thumbsup\\thumbsup.bb0af8cc-dac3-11eb-bc80-107b4420fbf7.jpg -> Annotation:C:/Users/mustafa/Desktop/Object Detection/object_detection/Tensorflow/workspace/images/collectedimages/thumbsup/thumbsup.bb0af8cc-dac3-11eb-bc80-107b4420fbf7.xml\n",
      "Image:C:\\Users\\mustafa\\Desktop\\Object Detection\\object_detection\\Tensorflow\\workspace\\images\\collectedimages\\thumbsup\\thumbsup.bcd67acf-dac3-11eb-99d3-107b4420fbf7.jpg -> Annotation:C:/Users/mustafa/Desktop/Object Detection/object_detection/Tensorflow/workspace/images/collectedimages/thumbsup/thumbsup.bcd67acf-dac3-11eb-99d3-107b4420fbf7.xml\n",
      "Image:C:\\Users\\mustafa\\Desktop\\Object Detection\\object_detection\\Tensorflow\\workspace\\images\\collectedimages\\thumbsup\\thumbsup.bea310af-dac3-11eb-90df-107b4420fbf7.jpg -> Annotation:C:/Users/mustafa/Desktop/Object Detection/object_detection/Tensorflow/workspace/images/collectedimages/thumbsup/thumbsup.bea310af-dac3-11eb-90df-107b4420fbf7.xml\n",
      "Image:C:\\Users\\mustafa\\Desktop\\Object Detection\\object_detection\\Tensorflow\\workspace\\images\\collectedimages\\thumbsup\\thumbsup.c5d23dd1-dac3-11eb-b3d3-107b4420fbf7.jpg -> Annotation:C:/Users/mustafa/Desktop/Object Detection/object_detection/Tensorflow/workspace/images/collectedimages/thumbsup/thumbsup.c5d23dd1-dac3-11eb-b3d3-107b4420fbf7.xml\n",
      "Image:C:\\Users\\mustafa\\Desktop\\Object Detection\\object_detection\\Tensorflow\\workspace\\images\\collectedimages\\thumbsup\\thumbsup.c06ec473-dac3-11eb-87cf-107b4420fbf7.jpg -> Annotation:C:/Users/mustafa/Desktop/Object Detection/object_detection/Tensorflow/workspace/images/collectedimages/thumbsup/thumbsup.c06ec473-dac3-11eb-87cf-107b4420fbf7.xml\n",
      "Image:C:\\Users\\mustafa\\Desktop\\Object Detection\\object_detection\\Tensorflow\\workspace\\images\\collectedimages\\thumbsup\\thumbsup.c23a5d5f-dac3-11eb-94de-107b4420fbf7.jpg -> Annotation:C:/Users/mustafa/Desktop/Object Detection/object_detection/Tensorflow/workspace/images/collectedimages/thumbsup/thumbsup.c23a5d5f-dac3-11eb-94de-107b4420fbf7.xml\n",
      "Image:C:\\Users\\mustafa\\Desktop\\Object Detection\\object_detection\\Tensorflow\\workspace\\images\\collectedimages\\thumbsup\\thumbsup.c79e0779-dac3-11eb-be2a-107b4420fbf7.jpg -> Annotation:C:/Users/mustafa/Desktop/Object Detection/object_detection/Tensorflow/workspace/images/collectedimages/thumbsup/thumbsup.c79e0779-dac3-11eb-be2a-107b4420fbf7.xml\n",
      "Image:C:\\Users\\mustafa\\Desktop\\Object Detection\\object_detection\\Tensorflow\\workspace\\images\\collectedimages\\thumbsup\\thumbsup.c969bbbe-dac3-11eb-9fd8-107b4420fbf7.jpg -> Annotation:C:/Users/mustafa/Desktop/Object Detection/object_detection/Tensorflow/workspace/images/collectedimages/thumbsup/thumbsup.c969bbbe-dac3-11eb-9fd8-107b4420fbf7.xml\n",
      "Image:C:\\Users\\mustafa\\Desktop\\Object Detection\\object_detection\\Tensorflow\\workspace\\images\\collectedimages\\thumbsup\\thumbsup.c4060d75-dac3-11eb-bab5-107b4420fbf7.jpg -> Annotation:C:/Users/mustafa/Desktop/Object Detection/object_detection/Tensorflow/workspace/images/collectedimages/thumbsup/thumbsup.c4060d75-dac3-11eb-bab5-107b4420fbf7.xml\n",
      "Image:C:\\Users\\mustafa\\Desktop\\Object Detection\\object_detection\\Tensorflow\\workspace\\images\\collectedimages\\thumbsup\\thumbsup.cb355368-dac3-11eb-b74b-107b4420fbf7.jpg -> Annotation:C:/Users/mustafa/Desktop/Object Detection/object_detection/Tensorflow/workspace/images/collectedimages/thumbsup/thumbsup.cb355368-dac3-11eb-b74b-107b4420fbf7.xml\n",
      "Image:C:\\Users\\mustafa\\Desktop\\Object Detection\\object_detection\\Tensorflow\\workspace\\images\\collectedimages\\thumbsup\\thumbsup.cd01f3b4-dac3-11eb-b014-107b4420fbf7.jpg -> Annotation:C:/Users/mustafa/Desktop/Object Detection/object_detection/Tensorflow/workspace/images/collectedimages/thumbsup/thumbsup.cd01f3b4-dac3-11eb-b014-107b4420fbf7.xml\n",
      "Image:C:\\Users\\mustafa\\Desktop\\Object Detection\\object_detection\\Tensorflow\\workspace\\images\\collectedimages\\thumbsup\\thumbsup.cecd84f8-dac3-11eb-99ee-107b4420fbf7.jpg -> Annotation:C:/Users/mustafa/Desktop/Object Detection/object_detection/Tensorflow/workspace/images/collectedimages/thumbsup/thumbsup.cecd84f8-dac3-11eb-99ee-107b4420fbf7.xml\n",
      "Image:C:\\Users\\mustafa\\Desktop\\Object Detection\\object_detection\\Tensorflow\\workspace\\images\\collectedimages\\thumbsup\\thumbsup.d5fd334a-dac3-11eb-9540-107b4420fbf7.jpg -> Annotation:C:/Users/mustafa/Desktop/Object Detection/object_detection/Tensorflow/workspace/images/collectedimages/thumbsup/thumbsup.d5fd334a-dac3-11eb-9540-107b4420fbf7.xml\n",
      "Image:C:\\Users\\mustafa\\Desktop\\Object Detection\\object_detection\\Tensorflow\\workspace\\images\\collectedimages\\thumbsup\\thumbsup.d7c8e87b-dac3-11eb-ac11-107b4420fbf7.jpg -> Annotation:C:/Users/mustafa/Desktop/Object Detection/object_detection/Tensorflow/workspace/images/collectedimages/thumbsup/thumbsup.d7c8e87b-dac3-11eb-ac11-107b4420fbf7.xml\n",
      "Image:C:\\Users\\mustafa\\Desktop\\Object Detection\\object_detection\\Tensorflow\\workspace\\images\\collectedimages\\thumbsup\\thumbsup.d265d501-dac3-11eb-9137-107b4420fbf7.jpg -> Annotation:C:/Users/mustafa/Desktop/Object Detection/object_detection/Tensorflow/workspace/images/collectedimages/thumbsup/thumbsup.d265d501-dac3-11eb-9137-107b4420fbf7.xml\n",
      "Image:C:\\Users\\mustafa\\Desktop\\Object Detection\\object_detection\\Tensorflow\\workspace\\images\\collectedimages\\thumbsup\\thumbsup.d995b7d3-dac3-11eb-b1ce-107b4420fbf7.jpg -> Annotation:C:/Users/mustafa/Desktop/Object Detection/object_detection/Tensorflow/workspace/images/collectedimages/thumbsup/thumbsup.d995b7d3-dac3-11eb-b1ce-107b4420fbf7.xml\n",
      "Image:C:\\Users\\mustafa\\Desktop\\Object Detection\\object_detection\\Tensorflow\\workspace\\images\\collectedimages\\thumbsup\\thumbsup.d0991774-dac3-11eb-b04b-107b4420fbf7.jpg -> Annotation:C:/Users/mustafa/Desktop/Object Detection/object_detection/Tensorflow/workspace/images/collectedimages/thumbsup/thumbsup.d0991774-dac3-11eb-b04b-107b4420fbf7.xml\n",
      "Image:C:\\Users\\mustafa\\Desktop\\Object Detection\\object_detection\\Tensorflow\\workspace\\images\\collectedimages\\thumbsup\\thumbsup.d4318098-dac3-11eb-b5f4-107b4420fbf7.jpg -> Annotation:C:/Users/mustafa/Desktop/Object Detection/object_detection/Tensorflow/workspace/images/collectedimages/thumbsup/thumbsup.d4318098-dac3-11eb-b5f4-107b4420fbf7.xml\n",
      "Image:C:\\Users\\mustafa\\Desktop\\Object Detection\\object_detection\\Tensorflow\\workspace\\images\\collectedimages\\thumbsup\\thumbsup.db625441-dac3-11eb-a481-107b4420fbf7.jpg -> Annotation:C:/Users/mustafa/Desktop/Object Detection/object_detection/Tensorflow/workspace/images/collectedimages/thumbsup/thumbsup.db625441-dac3-11eb-a481-107b4420fbf7.xml\n"
     ]
    }
   ],
   "source": [
    "!cd {LABELIMG_PATH} && python labelImg.py"
   ]
  },
  {
   "cell_type": "code",
   "execution_count": null,
   "id": "f06692dc",
   "metadata": {},
   "outputs": [],
   "source": [
    "#creating train-test partitions"
   ]
  },
  {
   "cell_type": "code",
   "execution_count": 29,
   "id": "4563463b",
   "metadata": {},
   "outputs": [],
   "source": [
    "DATA = os.path.join('Tensorflow', 'workspace', 'images', 'collectedimages')\n",
    "TRAIN_PATH = os.path.join('Tensorflow', 'workspace', 'images', 'train')\n",
    "TEST_PATH = os.path.join('Tensorflow', 'workspace', 'images', 'test')\n",
    "ARCHIVE_PATH = os.path.join('Tensorflow', 'workspace', 'images', 'archive.tar.gz')"
   ]
  },
  {
   "cell_type": "code",
   "execution_count": 27,
   "id": "79034204",
   "metadata": {},
   "outputs": [],
   "source": [
    "if not os.path.exists(TRAIN_PATH):\n",
    "    !mkdir {TRAIN_PATH}\n",
    "    !mkdir {TEST_PATH}"
   ]
  },
  {
   "cell_type": "code",
   "execution_count": 72,
   "id": "45ec9f1b",
   "metadata": {},
   "outputs": [],
   "source": [
    "os.chdir(DATA)"
   ]
  },
  {
   "cell_type": "code",
   "execution_count": 73,
   "id": "2d4c3559",
   "metadata": {},
   "outputs": [
    {
     "name": "stdout",
     "output_type": "stream",
     "text": [
      "C:\\Users\\mustafa\\Desktop\\Object Detection\\object_detection\\Tensorflow\\workspace\\images\\collectedimages\\livelong\n",
      "C:\\Users\\mustafa\\Desktop\\Object Detection\\object_detection\\Tensorflow\\workspace\\images\\collectedimages\\okay\n",
      "C:\\Users\\mustafa\\Desktop\\Object Detection\\object_detection\\Tensorflow\\workspace\\images\\collectedimages\\thankyou\n",
      "C:\\Users\\mustafa\\Desktop\\Object Detection\\object_detection\\Tensorflow\\workspace\\images\\collectedimages\\thumbsdown\n",
      "C:\\Users\\mustafa\\Desktop\\Object Detection\\object_detection\\Tensorflow\\workspace\\images\\collectedimages\\thumbsleft\n",
      "C:\\Users\\mustafa\\Desktop\\Object Detection\\object_detection\\Tensorflow\\workspace\\images\\collectedimages\\thumbsright\n",
      "C:\\Users\\mustafa\\Desktop\\Object Detection\\object_detection\\Tensorflow\\workspace\\images\\collectedimages\\thumbsup\n"
     ]
    }
   ],
   "source": [
    "rows=[] \n",
    "for file in os.listdir():\n",
    "    os.chdir(file)\n",
    "    columns=[]\n",
    "    for images in os.listdir():\n",
    "        columns.append(os.path.join(os.getcwd(),images))\n",
    "    print(os.getcwd())\n",
    "    rows.append(columns)\n",
    "    os.chdir('../')"
   ]
  },
  {
   "cell_type": "code",
   "execution_count": 74,
   "id": "e635e0e1",
   "metadata": {},
   "outputs": [],
   "source": [
    "os.chdir('../')\n",
    "os.chdir('../')\n",
    "os.chdir('../')\n",
    "os.chdir('../')"
   ]
  },
  {
   "cell_type": "code",
   "execution_count": 75,
   "id": "4a735416",
   "metadata": {},
   "outputs": [
    {
     "data": {
      "text/plain": [
       "'C:\\\\Users\\\\mustafa\\\\Desktop\\\\Object Detection\\\\object_detection'"
      ]
     },
     "execution_count": 75,
     "metadata": {},
     "output_type": "execute_result"
    }
   ],
   "source": [
    "os.getcwd()"
   ]
  },
  {
   "cell_type": "code",
   "execution_count": 78,
   "id": "f1da2e45",
   "metadata": {},
   "outputs": [],
   "source": [
    "#train = 85% - test = 15% for 20 images and 20 label xml files\n",
    "for i in range(len(rows)):\n",
    "    for j in range(34):\n",
    "        shutil.move(rows[i][j], TRAIN_PATH)"
   ]
  },
  {
   "cell_type": "code",
   "execution_count": 80,
   "id": "719fe015",
   "metadata": {},
   "outputs": [],
   "source": [
    "for i in range(len(rows)):\n",
    "    for j in range(34, len(rows[0])):\n",
    "        shutil.move(rows[i][j], TEST_PATH)"
   ]
  },
  {
   "cell_type": "code",
   "execution_count": 81,
   "id": "4e762603",
   "metadata": {},
   "outputs": [],
   "source": [
    "\n",
    "!tar -czf {ARCHIVE_PATH} {TRAIN_PATH} {TEST_PATH}"
   ]
  }
 ],
 "metadata": {
  "kernelspec": {
   "display_name": "object_detection",
   "language": "python",
   "name": "object_detection"
  },
  "language_info": {
   "codemirror_mode": {
    "name": "ipython",
    "version": 3
   },
   "file_extension": ".py",
   "mimetype": "text/x-python",
   "name": "python",
   "nbconvert_exporter": "python",
   "pygments_lexer": "ipython3",
   "version": "3.9.5"
  }
 },
 "nbformat": 4,
 "nbformat_minor": 5
}
